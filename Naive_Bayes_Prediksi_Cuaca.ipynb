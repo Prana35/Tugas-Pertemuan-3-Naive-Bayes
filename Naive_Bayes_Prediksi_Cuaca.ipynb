{
 "cells": [
  {
   "cell_type": "code",
   "execution_count": null,
   "id": "04a579bd",
   "metadata": {},
   "outputs": [],
   "source": [
    "import pandas as pd\n",
    "import numpy as np\n",
    "from sklearn.model_selection import train_test_split\n",
    "from sklearn.preprocessing import LabelEncoder, StandardScaler\n",
    "from sklearn.naive_bayes import GaussianNB\n",
    "from sklearn.metrics import accuracy_score, classification_report, confusion_matrix\n",
    "from imblearn.over_sampling import SMOTE\n",
    "import seaborn as sns\n",
    "import matplotlib.pyplot as plt"
   ]
  },
  {
   "cell_type": "code",
   "execution_count": null,
   "id": "9224afed",
   "metadata": {},
   "outputs": [],
   "source": [
    "# Load dataset\n",
    "data = pd.read_csv(\"seattle-weather.csv\")\n",
    "\n",
    "# Lihat 5 data pertama\n",
    "display(data.head())\n",
    "\n",
    "# Cek struktur data\n",
    "data.info()"
   ]
  },
  {
   "cell_type": "code",
   "execution_count": null,
   "id": "b7d2c713",
   "metadata": {},
   "outputs": [],
   "source": [
    "# Cek data kosong (null)\n",
    "print(\"=== CEK DATA NULL ===\")\n",
    "print(data.isnull().sum())\n",
    "\n",
    "# Cek duplikat\n",
    "print(\"\\nJumlah duplikat:\", data.duplicated().sum())\n",
    "\n",
    "# Hapus duplikat jika ada\n",
    "data = data.drop_duplicates()\n"
   ]
  },
  {
   "cell_type": "code",
   "execution_count": null,
   "id": "5d7cb7fc",
   "metadata": {},
   "outputs": [],
   "source": [
    "# Tentukan fitur dan label\n",
    "X = data[['precipitation', 'temp_max', 'temp_min', 'wind']]\n",
    "y = data['weather']\n",
    "\n",
    "# Encode label menjadi angka\n",
    "le = LabelEncoder()\n",
    "y_encoded = le.fit_transform(y)\n",
    "\n",
    "# Cek hasil encoding\n",
    "print(\"Contoh encoding:\", list(zip(y[:5], y_encoded[:5])))\n"
   ]
  },
  {
   "cell_type": "code",
   "execution_count": null,
   "id": "f513a11e",
   "metadata": {},
   "outputs": [],
   "source": [
    "# Cek distribusi sebelum SMOTE\n",
    "print(\"=== Distribusi Sebelum Balancing ===\")\n",
    "print(pd.Series(y_encoded).value_counts())\n",
    "\n",
    "# Terapkan SMOTE\n",
    "smote = SMOTE(random_state=42)\n",
    "X_resampled, y_resampled = smote.fit_resample(X, y_encoded)\n",
    "\n",
    "# Cek distribusi setelah SMOTE\n",
    "print(\"\\n=== Distribusi Setelah SMOTE ===\")\n",
    "print(pd.Series(y_resampled).value_counts())\n",
    "\n",
    "# Gabungkan hasil ke dataframe\n",
    "balanced_data = pd.DataFrame(X_resampled, columns=X.columns)\n",
    "balanced_data['weather'] = le.inverse_transform(y_resampled)\n",
    "\n",
    "# Simpan ke Excel\n",
    "output_path = \"seattle_weather_balanced.xlsx\"\n",
    "balanced_data.to_excel(output_path, index=False)\n",
    "\n"
   ]
  }
 ],
 "metadata": {
  "kernelspec": {
   "display_name": "Python 3",
   "language": "python",
   "name": "python3"
  },
  "language_info": {
   "codemirror_mode": {
    "name": "ipython",
    "version": 3
   },
   "file_extension": ".py",
   "mimetype": "text/x-python",
   "name": "python",
   "nbconvert_exporter": "python",
   "pygments_lexer": "ipython3",
   "version": "3.12.4"
  }
 },
 "nbformat": 4,
 "nbformat_minor": 5
}
